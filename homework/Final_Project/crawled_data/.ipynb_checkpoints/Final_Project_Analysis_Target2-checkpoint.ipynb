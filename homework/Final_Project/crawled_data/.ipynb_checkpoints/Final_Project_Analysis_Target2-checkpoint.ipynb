{
 "cells": [
  {
   "cell_type": "markdown",
   "metadata": {},
   "source": [
    "### 進階目標\n",
    "1. 透過不同帳號，但是相同 IP 且政治用語的詞頻分佈類似的定位成網軍\n",
    "2. 進一步分析帳號是否在特定期間 (e.g. 選舉) 有明顯的活動特性\n",
    "3. 如果不同帳號但是政治用語的詞頻分佈類似，進一步判斷這些高頻率的單字是positive / negative 來歸納兩個帳號之間是否具有相同政治立場"
   ]
  },
  {
   "cell_type": "markdown",
   "metadata": {},
   "source": [
    "### 讀取爬取到的資料以及資料處理"
   ]
  },
  {
   "cell_type": "code",
   "execution_count": 2,
   "metadata": {},
   "outputs": [],
   "source": [
    "import ijson\n",
    "import pandas as pd"
   ]
  },
  {
   "cell_type": "code",
   "execution_count": null,
   "metadata": {},
   "outputs": [],
   "source": [
    "# 將資料讀入\n",
    "\n",
    "file = 'Gossiping-20200220T06-34-35.json'\n",
    "with open(file, 'r', encoding='utf-8') as f: # 文章id\n",
    "    article_id = pd.Series(ijson.items(f, 'item.article_id'))\n",
    "with open(file, 'r', encoding='utf-8') as f: # 文章作者\n",
    "    article_author = pd.Series(ijson.items(f, 'item.article_author'))\n",
    "with open(file, 'r', encoding='utf-8') as f: # 發文日期\n",
    "    article_date = pd.Series(ijson.items(f, 'item.article_date'))\n",
    "with open(file, 'r', encoding='utf-8') as f: # 文章內容\n",
    "    article_content = pd.Series(ijson.items(f, 'item.article_content'))\n",
    "with open(file, 'r', encoding='utf-8') as f: # 發文ip\n",
    "    ip = pd.Series(ijson.items(f, 'item.ip'))\n",
    "with open(file, 'r', encoding='utf-8') as f: # 回應數量\n",
    "    message_count = pd.Series(ijson.items(f, 'item.message_count'))\n",
    "with open(file, 'r', encoding='utf-8') as f: # 回應內容\n",
    "    messages = pd.Series(ijson.items(f, 'item.messages'))"
   ]
  },
  {
   "cell_type": "code",
   "execution_count": 1,
   "metadata": {},
   "outputs": [
    {
     "ename": "NameError",
     "evalue": "name 'article_id' is not defined",
     "output_type": "error",
     "traceback": [
      "\u001b[1;31m---------------------------------------------------------------------------\u001b[0m",
      "\u001b[1;31mNameError\u001b[0m                                 Traceback (most recent call last)",
      "\u001b[1;32m<ipython-input-1-14cde4ec5e86>\u001b[0m in \u001b[0;36m<module>\u001b[1;34m\u001b[0m\n\u001b[0;32m      9\u001b[0m \u001b[1;33m\u001b[0m\u001b[0m\n\u001b[0;32m     10\u001b[0m \u001b[1;31m# print(len(message))\u001b[0m\u001b[1;33m\u001b[0m\u001b[1;33m\u001b[0m\u001b[1;33m\u001b[0m\u001b[0m\n\u001b[1;32m---> 11\u001b[1;33m \u001b[0mprint\u001b[0m\u001b[1;33m(\u001b[0m\u001b[0mlen\u001b[0m\u001b[1;33m(\u001b[0m\u001b[0marticle_id\u001b[0m\u001b[1;33m)\u001b[0m\u001b[1;33m)\u001b[0m\u001b[1;33m\u001b[0m\u001b[1;33m\u001b[0m\u001b[0m\n\u001b[0m",
      "\u001b[1;31mNameError\u001b[0m: name 'article_id' is not defined"
     ]
    }
   ],
   "source": [
    "# df_article_id = article_id.to_frame()\n",
    "# df_article_author = article_author.to_frame()\n",
    "# df_article_date = article_date.to_frame()\n",
    "# df_article_content = article_content.to_frame()\n",
    "# df_ip = ip.to_frame()\n",
    "# df_message_count = message_count.to_frame()\n",
    "# df_messsages = message.to_frame()\n",
    "\n",
    "print(len(article_id))\n",
    "print(len(article_author))\n",
    "print(len(article_date))\n",
    "print(len(article_content))\n",
    "print(len(ip))\n",
    "print(len(message_count))\n",
    "print(len(messages))"
   ]
  },
  {
   "cell_type": "code",
   "execution_count": null,
   "metadata": {},
   "outputs": [],
   "source": [
    "df_article_id.to_csv('article_id.csv')\n",
    "df_article_author.to_csv('article_author.csv')\n",
    "df_article_date.to_csv('article_date.csv')\n",
    "df_article_content.to_csv('article_content.csv')\n",
    "df_ip.to_csv('ip.csv')\n",
    "df_message_count.to_csv('message_count.csv')\n",
    "df_messsages.to_csv('messsages.csv')"
   ]
  },
  {
   "cell_type": "code",
   "execution_count": null,
   "metadata": {},
   "outputs": [],
   "source": [
    "# 文章回應數小於100不採計，如果推文少於50也不採計\n",
    "\n",
    "# 每個id發文和留言量(推噓)比較\n",
    "# 計算每個帳號的推文和噓文比例\n",
    "# 推文正一、虛文負一，看每個帳號的發文受歡迎程度"
   ]
  },
  {
   "cell_type": "markdown",
   "metadata": {},
   "source": [
    "### Target1: 透過不同帳號，但是相同 IP 且政治用語的詞頻分佈類似的定位成網軍"
   ]
  },
  {
   "cell_type": "code",
   "execution_count": 2,
   "metadata": {},
   "outputs": [
    {
     "data": {
      "text/plain": [
       "'Taoyuan5566'"
      ]
     },
     "execution_count": 2,
     "metadata": {},
     "output_type": "execute_result"
    }
   ],
   "source": [
    "# 網軍 test1\n",
    "# 1. 取出文章做文字雲\n",
    "# 取topk 120 作為詞頻比較標準\n",
    "# 格式ueserid, word_count, ip\n",
    "# 2. 定義是否為網軍\n",
    "# 類似的定義......top 5 都一樣，抓出帳號不同，但ip相同者\n",
    "\n",
    "s = 'Taoyuan5566 (桃園56魯蛇哥)'\n",
    "s1 = s.split()[0]\n",
    "s1"
   ]
  },
  {
   "cell_type": "code",
   "execution_count": null,
   "metadata": {},
   "outputs": [],
   "source": [
    "# 網軍 test2\n",
    "# 1. 網軍有明顯的政治偏好，回應多\n",
    "# 2. 網軍上線時間長、反應快(文章出現能及時回應)\n",
    "# 為符合上述條件:\n",
    "# 取出標題與內文包含兩位總統參選人(蔡英文、韓國瑜、韓導、國魚、柯文哲應該也可以算)的文章 的那個表格\n",
    "# 極性 = 推的數量-噓的數量\n",
    "# 取前100活躍評論者 - > \n",
    "# 評論的活躍度與對於該候選人的極性，只有柯文哲為正相關，另兩位候選人為負相關。意即越活躍的使用者，越傾向對柯文哲的討論持正面極性\n"
   ]
  },
  {
   "cell_type": "markdown",
   "metadata": {},
   "source": [
    "## Target2:進一步分析帳號是否在特定期間 (e.g. 選舉) 有明顯的活動特性"
   ]
  },
  {
   "cell_type": "code",
   "execution_count": null,
   "metadata": {},
   "outputs": [],
   "source": [
    "# 每個帳號每個時段的發文量"
   ]
  },
  {
   "cell_type": "markdown",
   "metadata": {},
   "source": [
    "### Target3: 如果不同帳號但是政治用語的詞頻分佈類似，進一步判斷這些高頻率的單字是positive / negative 來歸納兩個帳號之間是否具有相同政治立場"
   ]
  },
  {
   "cell_type": "code",
   "execution_count": null,
   "metadata": {},
   "outputs": [],
   "source": [
    "# 根據target1已經抓出了一些帳號，進行情感分析，看高頻單字是為正向or 負向，歸納帳號間是否具有相同政治立場\n",
    "# 運用推噓文作為情感分析的訓練資料\n",
    "# 再將這些高頻單字(from target1)組合在一起作為一個測試資料，看情感分析結果是正向or 負向 - > 政治立場是否相同\n",
    "\n",
    "# 還有時間的話-用語分析: 發文中哪些字詞容易被推或噓\n",
    "# 1. 分詞，將文章內容蒐集起來\n",
    "# 2. 收集每篇文章的推噓程程度 推 + 1 噓 - 1 "
   ]
  }
 ],
 "metadata": {
  "kernelspec": {
   "display_name": "Python 3",
   "language": "python",
   "name": "python3"
  },
  "language_info": {
   "codemirror_mode": {
    "name": "ipython",
    "version": 3
   },
   "file_extension": ".py",
   "mimetype": "text/x-python",
   "name": "python",
   "nbconvert_exporter": "python",
   "pygments_lexer": "ipython3",
   "version": "3.7.4"
  }
 },
 "nbformat": 4,
 "nbformat_minor": 2
}
