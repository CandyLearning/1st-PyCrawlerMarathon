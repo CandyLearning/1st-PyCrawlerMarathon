{
 "cells": [
  {
   "cell_type": "markdown",
   "metadata": {},
   "source": [
    "# API 資料串接 - 以 知乎 API 實作範例\n",
    "\n",
    "\n",
    "\n",
    "* 了解知乎 API 使用方式與回傳內容\n",
    "* 撰寫程式存取 API 且添加標頭\n",
    "\n",
    "\n"
   ]
  },
  {
   "cell_type": "markdown",
   "metadata": {},
   "source": [
    "## 作業目標\n",
    "\n",
    "* 根據範例提供的 API ，完成以下問題：\n",
    "\n",
    "    1. 取出知乎問題發問時間\n",
    "    2. 取出第一筆與最後一筆回答的時間\n"
   ]
  },
  {
   "cell_type": "markdown",
   "metadata": {},
   "source": [
    "### 1. 取出知乎問題發問時間"
   ]
  },
  {
   "cell_type": "code",
   "execution_count": 1,
   "metadata": {},
   "outputs": [],
   "source": [
    "# 讀取API\n",
    "import requests\n",
    "headers = {'user-agent': 'my-app/0.0.1'}\n",
    "# 抓取資料的網站: https://www.zhihu.com/question/55493026\n",
    "r = requests.get('https://www.zhihu.com/api/v4/questions/55493026/answers',headers = headers)\n",
    "response = r.text"
   ]
  },
  {
   "cell_type": "code",
   "execution_count": 2,
   "metadata": {},
   "outputs": [
    {
     "name": "stdout",
     "output_type": "stream",
     "text": [
      "{'data': [{'answer_type': 'normal',\n",
      "           'author': {'avatar_url': 'https://pic4.zhimg.com/v2-ca6e7ffc10a0d10edbae635cee82d007_is.jpg',\n",
      "                      'avatar_url_template': 'https://pic4.zhimg.com/v2-ca6e7ffc10a0d10edbae635cee82d007_{size}.jpg',\n",
      "                      'badge': [{'description': '已认证的官方帐号',\n",
      "                                 'topics': [],\n",
      "                                 'type': 'identity'},\n",
      "                                {'description': '优秀回答者',\n",
      "                                 'topics': [],\n",
      "                                 'type': 'best_answerer'}],\n",
      "                      'gender': -1,\n",
      "                      'headline': '有趣的前沿科技→_→ 公众号：QbitAI',\n",
      "                      'id': '36f69162230003d316d0b8a6d8da20ba',\n",
      "                      'is_advertiser': False,\n",
      "                      'is_org': True,\n",
      "                      'is_privacy': False,\n",
      "                      'name': '量子位',\n",
      "                      'type': 'people',\n",
      "                      'url': 'https://www.zhihu.com/api/v4/people/36f69162230003d316d0b8a6d8da20ba',\n",
      "                      'url_token': 'liang-zi-wei-48',\n",
      "                      'user_type': 'organization'},\n",
      "           'created_time': 1557824412,\n",
      "           'extras': '',\n",
      "           'id': 683070334,\n",
      "           'is_collapsed': False,\n",
      "           'is_copyable': True,\n",
      "           'question': {'created': 1486390229,\n",
      "                        'id': 55493026,\n",
      "                        'question_type': 'normal',\n",
      "                        'relationship': {},\n",
      "                        'title': '你们都是怎么学 Python 的？',\n",
      "                        'type': 'question',\n",
      "                        'updated_time': 1543075931,\n",
      "                        'url': 'https://www.zhihu.com/api/v4/questions/55493026'},\n",
      "           'relationship': {'upvoted_followees': []},\n",
      "           'type': 'answer',\n",
      "           'updated_time': 1557824412,\n",
      "           'url': 'https://www.zhihu.com/api/v4/answers/683070334'},\n",
      "          {'answer_type': 'normal',\n",
      "           'author': {'avatar_url': 'https://pic2.zhimg.com/v2-03afe381dbea789c0f918d6aac15556c_is.jpg',\n",
      "                      'avatar_url_template': 'https://pic2.zhimg.com/v2-03afe381dbea789c0f918d6aac15556c_{size}.jpg',\n",
      "                      'badge': [{'description': '新加坡南洋理工大学 电气工程博士',\n",
      "                                 'topics': [],\n",
      "                                 'type': 'identity'}],\n",
      "                      'gender': 1,\n",
      "                      'headline': '英语公众号「赛门喵Simon」，不关注你会后悔。',\n",
      "                      'id': '788f207a6bf8f66c5bad79bd0f011065',\n",
      "                      'is_advertiser': False,\n",
      "                      'is_org': False,\n",
      "                      'is_privacy': False,\n",
      "                      'name': '赛门喵Simon',\n",
      "                      'type': 'people',\n",
      "                      'url': 'https://www.zhihu.com/api/v4/people/788f207a6bf8f66c5bad79bd0f011065',\n",
      "                      'url_token': 'simonlearn',\n",
      "                      'user_type': 'people'},\n",
      "           'created_time': 1493707703,\n",
      "           'extras': '',\n",
      "           'id': 163642949,\n",
      "           'is_collapsed': False,\n",
      "           'is_copyable': False,\n",
      "           'question': {'created': 1486390229,\n",
      "                        'id': 55493026,\n",
      "                        'question_type': 'normal',\n",
      "                        'relationship': {},\n",
      "                        'title': '你们都是怎么学 Python 的？',\n",
      "                        'type': 'question',\n",
      "                        'updated_time': 1543075931,\n",
      "                        'url': 'https://www.zhihu.com/api/v4/questions/55493026'},\n",
      "           'relationship': {'upvoted_followees': []},\n",
      "           'type': 'answer',\n",
      "           'updated_time': 1493708357,\n",
      "           'url': 'https://www.zhihu.com/api/v4/answers/163642949'},\n",
      "          {'answer_type': 'normal',\n",
      "           'author': {'avatar_url': 'https://pic4.zhimg.com/v2-314544f90f2a16f9ed161dc6ab6d00ed_is.jpg',\n",
      "                      'avatar_url_template': 'https://pic4.zhimg.com/v2-314544f90f2a16f9ed161dc6ab6d00ed_{size}.jpg',\n",
      "                      'badge': [],\n",
      "                      'gender': 0,\n",
      "                      'headline': '算法工程师',\n",
      "                      'id': 'e8c4768eaa41e3749f7e8bc5ac6aa74b',\n",
      "                      'is_advertiser': False,\n",
      "                      'is_org': False,\n",
      "                      'is_privacy': False,\n",
      "                      'name': 'Slumbers',\n",
      "                      'type': 'people',\n",
      "                      'url': 'https://www.zhihu.com/api/v4/people/e8c4768eaa41e3749f7e8bc5ac6aa74b',\n",
      "                      'url_token': 'Lanyuneet',\n",
      "                      'user_type': 'people'},\n",
      "           'created_time': 1554085028,\n",
      "           'extras': '',\n",
      "           'id': 637938925,\n",
      "           'is_collapsed': False,\n",
      "           'is_copyable': True,\n",
      "           'question': {'created': 1486390229,\n",
      "                        'id': 55493026,\n",
      "                        'question_type': 'normal',\n",
      "                        'relationship': {},\n",
      "                        'title': '你们都是怎么学 Python 的？',\n",
      "                        'type': 'question',\n",
      "                        'updated_time': 1543075931,\n",
      "                        'url': 'https://www.zhihu.com/api/v4/questions/55493026'},\n",
      "           'relationship': {'upvoted_followees': []},\n",
      "           'type': 'answer',\n",
      "           'updated_time': 1558451618,\n",
      "           'url': 'https://www.zhihu.com/api/v4/answers/637938925'},\n",
      "          {'answer_type': 'normal',\n",
      "           'author': {'avatar_url': 'https://pic3.zhimg.com/958a18f3216805bed269d158fb83325a_is.jpg',\n",
      "                      'avatar_url_template': 'https://pic3.zhimg.com/958a18f3216805bed269d158fb83325a_{size}.jpg',\n",
      "                      'badge': [],\n",
      "                      'gender': 1,\n",
      "                      'headline': '微信公众号：路人甲TM，微信：thisnozy',\n",
      "                      'id': 'eaf435b228ce0b038a4afe8203f59b49',\n",
      "                      'is_advertiser': False,\n",
      "                      'is_org': False,\n",
      "                      'is_privacy': False,\n",
      "                      'name': '路人甲',\n",
      "                      'type': 'people',\n",
      "                      'url': 'https://www.zhihu.com/api/v4/people/eaf435b228ce0b038a4afe8203f59b49',\n",
      "                      'url_token': 'sgai',\n",
      "                      'user_type': 'people'},\n",
      "           'created_time': 1493693113,\n",
      "           'extras': '',\n",
      "           'id': 163537026,\n",
      "           'is_collapsed': False,\n",
      "           'is_copyable': True,\n",
      "           'question': {'created': 1486390229,\n",
      "                        'id': 55493026,\n",
      "                        'question_type': 'normal',\n",
      "                        'relationship': {},\n",
      "                        'title': '你们都是怎么学 Python 的？',\n",
      "                        'type': 'question',\n",
      "                        'updated_time': 1543075931,\n",
      "                        'url': 'https://www.zhihu.com/api/v4/questions/55493026'},\n",
      "           'relationship': {'upvoted_followees': []},\n",
      "           'type': 'answer',\n",
      "           'updated_time': 1555137867,\n",
      "           'url': 'https://www.zhihu.com/api/v4/answers/163537026'},\n",
      "          {'answer_type': 'normal',\n",
      "           'author': {'avatar_url': 'https://pic3.zhimg.com/v2-f9642b41b7729c029c6c7978c4c019e8_is.jpg',\n",
      "                      'avatar_url_template': 'https://pic3.zhimg.com/v2-f9642b41b7729c029c6c7978c4c019e8_{size}.jpg',\n",
      "                      'badge': [],\n",
      "                      'gender': 1,\n",
      "                      'headline': '公众号「痴海」: 一起向上成长，成为一个厉害的人',\n",
      "                      'id': '4d1c2c77bc7431c2a6006d154198e8b9',\n",
      "                      'is_advertiser': False,\n",
      "                      'is_org': False,\n",
      "                      'is_privacy': False,\n",
      "                      'name': '痴海',\n",
      "                      'type': 'people',\n",
      "                      'url': 'https://www.zhihu.com/api/v4/people/4d1c2c77bc7431c2a6006d154198e8b9',\n",
      "                      'url_token': 'ji-de-yao-xing-fu',\n",
      "                      'user_type': 'people'},\n",
      "           'created_time': 1572318426,\n",
      "           'extras': '',\n",
      "           'id': 873825546,\n",
      "           'is_collapsed': False,\n",
      "           'is_copyable': False,\n",
      "           'question': {'created': 1486390229,\n",
      "                        'id': 55493026,\n",
      "                        'question_type': 'normal',\n",
      "                        'relationship': {},\n",
      "                        'title': '你们都是怎么学 Python 的？',\n",
      "                        'type': 'question',\n",
      "                        'updated_time': 1543075931,\n",
      "                        'url': 'https://www.zhihu.com/api/v4/questions/55493026'},\n",
      "           'relationship': {'upvoted_followees': []},\n",
      "           'type': 'answer',\n",
      "           'updated_time': 1574756054,\n",
      "           'url': 'https://www.zhihu.com/api/v4/answers/873825546'}],\n",
      " 'paging': {'is_end': False,\n",
      "            'is_start': True,\n",
      "            'next': 'https://www.zhihu.com/api/v4/questions/55493026/answers?limit=5&offset=5',\n",
      "            'previous': 'https://www.zhihu.com/api/v4/questions/55493026/answers?limit=5&offset=0',\n",
      "            'totals': 490}}\n"
     ]
    }
   ],
   "source": [
    "# JSON格式\n",
    "import json\n",
    "from pprint import pprint\n",
    "data = json.loads(response)\n",
    "pprint(data)"
   ]
  },
  {
   "cell_type": "code",
   "execution_count": 3,
   "metadata": {},
   "outputs": [
    {
     "name": "stdout",
     "output_type": "stream",
     "text": [
      "1486390229\n"
     ]
    }
   ],
   "source": [
    "# 1. 取出知乎問題發問時間\n",
    "data = data['data']# 僅取用data，不取用paging\n",
    "print(data[0]['question']['created'])"
   ]
  },
  {
   "cell_type": "markdown",
   "metadata": {},
   "source": [
    "### 2. 取出第一筆與最後一筆回答的時間"
   ]
  },
  {
   "cell_type": "code",
   "execution_count": 6,
   "metadata": {
    "scrolled": true
   },
   "outputs": [
    {
     "name": "stdout",
     "output_type": "stream",
     "text": [
      "1557824412\n",
      "1572318426\n"
     ]
    }
   ],
   "source": [
    "# 2. 取出第一筆與最後一筆回答的時間\n",
    "print(data[0]['created_time'])\n",
    "print(data[-1]['created_time'])"
   ]
  },
  {
   "cell_type": "code",
   "execution_count": null,
   "metadata": {},
   "outputs": [],
   "source": []
  }
 ],
 "metadata": {
  "kernelspec": {
   "display_name": "Python 3",
   "language": "python",
   "name": "python3"
  },
  "language_info": {
   "codemirror_mode": {
    "name": "ipython",
    "version": 3
   },
   "file_extension": ".py",
   "mimetype": "text/x-python",
   "name": "python",
   "nbconvert_exporter": "python",
   "pygments_lexer": "ipython3",
   "version": "3.7.4"
  }
 },
 "nbformat": 4,
 "nbformat_minor": 2
}
