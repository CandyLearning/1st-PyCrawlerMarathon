{
 "cells": [
  {
   "cell_type": "markdown",
   "metadata": {},
   "source": [
    "# 瀏覽器開發者工具介紹\n",
    "\n",
    "\n",
    "* 知道瀏覽器的開發者工具\n",
    "* 能夠使用瀏覽器的開發者工具觀察資料\n"
   ]
  },
  {
   "cell_type": "markdown",
   "metadata": {},
   "source": [
    "## 作業目標\n",
    "\n",
    "利用開發者工具去尋找「 https://www.zhihu.com/explore 」和「 http://aicoin.cn 」網站的 HTTP 網址，以及他所帶的 Headers 分別是哪些，試著用 request 去發送有沒有帶 Headers 的差異。\n"
   ]
  },
  {
   "cell_type": "markdown",
   "metadata": {},
   "source": [
    "### 1. https://www.zhihu.com/explore "
   ]
  },
  {
   "cell_type": "code",
   "execution_count": 1,
   "metadata": {
    "scrolled": true
   },
   "outputs": [
    {
     "name": "stdout",
     "output_type": "stream",
     "text": [
      "<html>\r\n",
      "<head><title>502 Bad Gateway</title></head>\r\n",
      "<body bgcolor=\"white\">\r\n",
      "<center><h1>502 Bad Gateway</h1></center>\r\n",
      "<hr><center>stgw/1.3.12.4_1.13.5</center>\r\n",
      "</body>\r\n",
      "</html>\r\n",
      "\n"
     ]
    }
   ],
   "source": [
    "import requests\n",
    "url = 'https://www.zhihu.com/explore'\n",
    "r = requests.get(url)\n",
    "r.encoding = 'utf-8'\n",
    "print(r.text)"
   ]
  },
  {
   "cell_type": "markdown",
   "metadata": {},
   "source": [
    "### 利用查看開發者工具觀察 Headers\n",
    "![Headers](./Data/hw18_picture.jpg)"
   ]
  },
  {
   "cell_type": "code",
   "execution_count": 2,
   "metadata": {},
   "outputs": [
    {
     "name": "stdout",
     "output_type": "stream",
     "text": [
      "<html>\r\n",
      "<head><title>500 Internal Server Error</title></head>\r\n",
      "<body bgcolor=\"white\">\r\n",
      "<center><h1>500 Internal Server Error</h1></center>\r\n",
      "<hr><center>openresty/1.13.6.1</center>\r\n",
      "</body>\r\n",
      "</html>\r\n",
      "<!-- a padding to disable MSIE and Chrome friendly error page -->\r\n",
      "<!-- a padding to disable MSIE and Chrome friendly error page -->\r\n",
      "<!-- a padding to disable MSIE and Chrome friendly error page -->\r\n",
      "<!-- a padding to disable MSIE and Chrome friendly error page -->\r\n",
      "<!-- a padding to disable MSIE and Chrome friendly error page -->\r\n",
      "<!-- a padding to disable MSIE and Chrome friendly error page -->\r\n"
     ]
    }
   ],
   "source": [
    "import requests\n",
    "url = 'http://www.zhihu.com'\n",
    "\n",
    "headers = {\n",
    "    'method': 'GET',\n",
    "    'path': '/explore',\n",
    "    'scheme':'https',\n",
    "    'accept':'text/html,application/xhtml+xml,application/xml;q=0.9,image/webp,image/apng,\\\n",
    "    */*;q=0.8,application/signed-exchange;v=b3;q=0.9',\n",
    "    'accept-language': 'zh-TW,zh;q=0.9,en-US;q=0.8,en;q=0.7,zh-CN;q=0.6',\n",
    "    'cache-control': 'max-age=0',\n",
    "    'cookie':'_zap=9fd878c3-4299-4750-a7a6-9dde66531cc7; \\\n",
    "    d_c0=\"AKClXGB_Bw6PTvS_cKsSaV1z_w0BsMmdIWE=|1533801321\"; \\\n",
    "    q_c1=4277756cd0f34ce4ab685120c7f7dd6a|1533801323000|1533801323000; \\\n",
    "    _xsrf=J8GDHJtoPo2BoXycq39ygPX2hTNIsnMb;\\\n",
    "    __gads=ID=a7abec9c729a4adb:T=1553682633:S=ALNI_MZq5Y1PsyeXDy5i74qN5cnzr5e-og;\\\n",
    "    l_cap_id=\"OGMzM2VhYjRjMTY0NDJlNTk1MGIwNzg2N2JhOThiZjk=|1575276458|e64811b409a\\\n",
    "    b145f7c9d111cbc9cb10d36a2b668\"; r_cap_id=\"M2NhOTIzNmMwZmQ2NDUzODgwMDk3ZGY0NDg\\\n",
    "    1YTdhZDE=|1575276458|d5b5c799ebebd7cd7efcb8f59ef1db7b9a853b7c\"; \\\n",
    "    cap_id=\"MWY5M2Q2NzdiYzRjNDY2Y2FiZjk2MzhmOGZkNjk0MzM=|1575276458|3ed6fd0c03e4\\\n",
    "    61dd8f6409019973c66661137a5a\"; capsion_ticket=\"2|1:0|10:1575276460|14:\\\n",
    "    capsion_ticket|44:MmNhMTAxYTUwYzQwNGNkZDkyNzE1ZjkxNzdhYjhkNjE=|288f5d89ac\\\n",
    "    890ea8af9c0765dffa44cd40ba24b3a7df84eff2fcfc2ca58e690a\"; Hm_lvt_98beee57\\\n",
    "    fd2ef70ccdd5ca52b9740c49=1576335850,1576685925,1576685978,1576685984; \\\n",
    "    Hm_lpvt_98beee57fd2ef70ccdd5ca52b9740c49=1576685984; tgw_l7_route=d9073c2db8fd\\\n",
    "    446afafd830a80e5db8c',\n",
    "    'referer': 'http://localhost:8888/notebooks/Python_marathon/Day018_HW.ipynb',\n",
    "    'sec-fetch-mode': 'navigate',\n",
    "    'sec-fetch-site': 'cross-site',\n",
    "    'sec-fetch-user': '?1',\n",
    "    'upgrade-insecure-requests': '1',\n",
    "    'user-agent': 'Mozilla/5.0 (Windows NT 10.0; Win64; x64) AppleWebKit/537.36 (KHTML, like Gecko) Chrome/79.0.3945.79 Safari/537.36'\n",
    "}\n",
    "\n",
    "r = requests.get(url, headers=headers)\n",
    "\n",
    "r.encoding = 'utf-8'\n",
    "print(r.text[0:600])"
   ]
  },
  {
   "cell_type": "markdown",
   "metadata": {},
   "source": [
    "### 2. http://aicoin.cn"
   ]
  },
  {
   "cell_type": "code",
   "execution_count": 3,
   "metadata": {},
   "outputs": [
    {
     "name": "stdout",
     "output_type": "stream",
     "text": [
      "<!DOCTYPE html><html style=\"height:100%;width:100%\"><head><meta http-equiv=\"Content-Type\" content=\"text/html; charset=utf-8\" /><meta http-equiv=\"Server\" content=\"CloudWAF\" /><title id=\"title\">访问被拦截！</title><script>function bindall() {var requestid = \"30-31-23-20191219214430-d68cdd92\";if(requestid==null || requestid == \"\"){return;}document.getElementById(\"d\").innerText = requestid;}</script></head><body onload=\"bindall()\" style=\"height:100%;width:100%;margin:0px;font-family:Microsoft yahei\"><div><style type=\"text/css\">\t.button{float:right;margin-right:2rem;text-decoration:none;background:white;color:#e94d4c;padding: 5px 15px 5px 15px;font-size:1rem;font-family: 微软雅黑,宋体,Arial,Helvetica,Verdana,sans-serif;font-weight:bold;border-radius:0rem;border: none;-webkit-transition:all linear 0.30s;-moz-transition:all linear 0.30s;}.button:hover{text-decoration:none;background:#e94d4c;color:#f2f2f2;}</style><input type=\"button\" class=\"button\" onclick=\"changeLanguageZh()\" value=\"中文\"/><input type=\"button\" class=\"button\"  onclick=\"changeLanguageEn()\" value=\"English\"/></div><div style=\"min-height:13.125rem;height:17%;width:100%\"><div style=\"margin-top:3.75rem;margin-left:18.4375rem;height:52.38;width:83.04%;\"><svg xmlns=\"http://www.w3.org/2000/svg\" style=\"width: 3.125rem;height: 3.125rem\" viewBox=\"0 0 50 50\"><path fill=\"#e84e4c\" d=\"M25,0A25,25,0,1,0,50,25,25,25,0,0,0,25,0Zm1.6,37.16H22.85V33.41H26.6Zm0-6.63H22.85L22.35,13H27.1Z\"/></svg><font style=\"font-family:MicrosoftYaHei;font-size:4.375rem;color:#e94d4c;margin-left: 0.75rem;font-weight: bold;\">418</font></div><div style=\"margin-left:18.4375rem;height:47.62%;width:83.04%;\"><font id=\"a\" style=\"font-family:MicrosoftYaHei;font-size:1.875rem;color:#999999;word-wrap:break-word;\">您的请求疑似攻击行为！</font><p style=\"font-family:MicrosoftYaHei;font-size:0.9rem;color:#999999;word-wrap:break-word;\"><span id=\"c\">事件ID：</span><span style=\"color:#499df2\" id=\"d\">False alarm ID</p></div></div><div style=\"height:15.625rem;width:100%;min-width:105rem;\"><div style=\"margin-left:18.4375rem;float:left;width:50rem\"><p id=\"b\" style=\"margin-top:10px\">如果您是站长，您可以前往WAF控制台进行误报屏蔽设置，让您的访问不再被拦截</p></div></div></body><script>function changeLanguageZh() {document.getElementById(\"title\").innerHTML = \"访问被拦截！\";document.getElementById(\"a\").innerHTML = \"您的请求疑似攻击行为！\";document.getElementById(\"b\").innerHTML = \"如果您是站长，您可以前往WAF控制台进行误报屏蔽设置，让您的访问不再被拦截\";document.getElementById(\"c\").innerHTML = \"事件ID：\";}function changeLanguageEn() {document.getElementById(\"title\").innerHTML = \"The access is blocked.\";document.getElementById(\"a\").innerHTML = \"Sorry, your request has been intercepted because it appears to be an attack.\";document.getElementById(\"b\").innerHTML = \"If you are the webmaster, configure related parameters on the WAF console to allow your requests.\";document.getElementById(\"c\").innerHTML = \"Event ID:\";}var language = navigator.language || navigator.browserLanguage;if (language.indexOf('zh') > -1) {changeLanguageZh();} else if (language.indexOf('en') > -1) {changeLanguageEn();} else{changeLanguageZh();}</script></html>\n",
      "\n"
     ]
    }
   ],
   "source": [
    "import requests\n",
    "url = 'http://aicoin.cn/'\n",
    "r = requests.get(url)\n",
    "r.encoding = 'utf-8'\n",
    "print(r.text)"
   ]
  },
  {
   "cell_type": "markdown",
   "metadata": {},
   "source": [
    "### 利用查看開發者工具觀察 Headers\n"
   ]
  },
  {
   "cell_type": "code",
   "execution_count": 4,
   "metadata": {},
   "outputs": [
    {
     "name": "stdout",
     "output_type": "stream",
     "text": [
      "<!DOCTYPE HTML PUBLIC \"-//IETF//DTD HTML 2.0//EN\">\r\n",
      "<html>\r\n",
      "<head><title>503 Service Temporarily Unavailable</title></head>\r\n",
      "<body bgcolor=\"white\">\r\n",
      "<h1>503 Service Temporarily Unavailable</h1>\r\n",
      "<p>The server is temporarily unable to service your request due to maintenance downtime or capacity problems. Please try again later.</body>\r\n",
      "</html>\r\n",
      "\n"
     ]
    }
   ],
   "source": [
    "import requests\n",
    "url = 'http://aicoin.cn/'\n",
    "\n",
    "headers = {\n",
    "'Accept': 'text/html,application/xhtml+xml,application/xml;q=0.9,image/webp,image/apng,\\\n",
    "*/*;q=0.8,application/signed-exchange;v=b3;q=0.9',\n",
    "'Accept-Language': 'zh-TW,zh;q=0.9,en-US;q=0.8,en;q=0.7,zh-CN;q=0.6',\n",
    "'Cache-Control': 'max-age=0',\n",
    "'Connection': 'keep-alive',\n",
    "'Host':'www.aicoin.cn',\n",
    "'Referer': 'https://www.aicoin.cn/',\n",
    "'Sec-Fetch-Mode': 'navigate',\n",
    "'Sec-Fetch-Site': 'same-origin',\n",
    "'Sec-Fetch-User': '?1',\n",
    "'Upgrade-Insecure-Requests':'Upgrade-Insecure-Requests',\n",
    "'User-Agent': 'Mozilla/5.0 (Windows NT 10.0; Win64; x64) AppleWebKit/537.36 \\\n",
    "(KHTML, like Gecko) Chrome/79.0.3945.79 Safari/537.36'\n",
    "}\n",
    "\n",
    "r = requests.get(url, headers=headers)\n",
    "print(r.text[0:600])"
   ]
  }
 ],
 "metadata": {
  "kernelspec": {
   "display_name": "Python 3",
   "language": "python",
   "name": "python3"
  },
  "language_info": {
   "codemirror_mode": {
    "name": "ipython",
    "version": 3
   },
   "file_extension": ".py",
   "mimetype": "text/x-python",
   "name": "python",
   "nbconvert_exporter": "python",
   "pygments_lexer": "ipython3",
   "version": "3.7.4"
  }
 },
 "nbformat": 4,
 "nbformat_minor": 2
}
