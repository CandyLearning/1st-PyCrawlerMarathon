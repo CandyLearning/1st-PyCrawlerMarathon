{
 "cells": [
  {
   "cell_type": "markdown",
   "metadata": {},
   "source": [
    "# 反爬：瀏覽器標頭與基本資訊\n",
    "\n",
    "\n",
    "* 了解「檢查 HTTP 標頭檔」的反爬蟲機制\n",
    "* 「檢查 HTTP 標頭檔」反爬蟲的因應策略\n"
   ]
  },
  {
   "cell_type": "markdown",
   "metadata": {},
   "source": [
    "## 作業目標\n",
    "\n",
    "* 尋找一個網站是有作 Header 檢查的（Hint: 有加跟沒有加回傳結果不一樣）\n",
    "* 用上述網站說明該如何判斷 Header 中必須加上哪些資料才會正確\n"
   ]
  },
  {
   "cell_type": "markdown",
   "metadata": {},
   "source": [
    "### 尋找一個網站是有作 Header 檢查的（Hint: 有加跟沒有加回傳結果不一樣）"
   ]
  },
  {
   "cell_type": "code",
   "execution_count": 32,
   "metadata": {},
   "outputs": [
    {
     "data": {
      "text/plain": [
       "'<html>\\r\\n<head><title>400 Bad Request</title></head>\\r\\n<body bgcolor=\"white\">\\r\\n<center><h1>400 Bad Request</h1></center>\\r\\n<hr><center>openresty</center>\\r\\n</body>\\r\\n</html>\\r\\n'"
      ]
     },
     "execution_count": 32,
     "metadata": {},
     "output_type": "execute_result"
    }
   ],
   "source": [
    "import requests\n",
    "url = 'https://www.zhihu.com/topic/19550228/hot'\n",
    "r = requests.get(url)\n",
    "r.text[:600]"
   ]
  },
  {
   "cell_type": "markdown",
   "metadata": {},
   "source": [
    "### 用上述網站說明該如何判斷 Header 中必須加上哪些資料才會正確\n"
   ]
  },
  {
   "cell_type": "code",
   "execution_count": 35,
   "metadata": {},
   "outputs": [
    {
     "data": {
      "text/plain": [
       "'<!DOCTYPE html><html><head><meta charset=utf-8><meta http-equiv=X-UA-Compatible content=\"IE=edge\"><meta name=viewport content=\"width=device-width,initial-scale=1,shrink-to-fit=no,user-scalable=no\"><title>SJTU-NIMO! ä¸\\x8aæµ·äº¤é\\x80\\x9aå¤§å\\xad¦å\\xad¦ç\\x94\\x9fç½\\x91ç»\\x9cä¿¡æ\\x81¯ç®¡ç\\x90\\x86é\\x83¨</title><script src=https://cdn.jsdelivr.net/npm/babel-polyfill@6.23.0/dist/polyfill.min.js></script><script>(function () {\\n      var ua = navigator.userAgent;\\n      var r = ua.match(/MSIE ([\\\\d]+)/);\\n      if ((r !== null && Number(r[1]) < 9) || Object.defineProperty === undefined) {\\n        window.location.href = \"/kaleid/null\";\\n      }\\n    })();</script><link href=/static/css/app.7d6d4b56291fe21afe96aae35bc8eca2.css rel=stylesheet></head><body><div id=app></div><script type=text/javascript src=/static/js/manifest.6669619f2bb5fbe1277e.js></script><script type=text/javascript src=/static/js/vendor.699aa6c916296c132850.js></script><script type=text/javascript src=/static/js/app.d77753dfa0693d8c4e98.js></script></body></html>'"
      ]
     },
     "execution_count": 35,
     "metadata": {},
     "output_type": "execute_result"
    }
   ],
   "source": [
    "url = 'https://nimo.sjtu.edu.cn/kaleid/oscope/home/'\n",
    "# 一開始加最基本的user-agent\n",
    "headers = {\n",
    "    'user-agent': 'Mozilla/5.0 (Windows NT 10.0; Win64; x64) AppleWebKit/537.36 (KHTML, like Gecko) Chrome/79.0.3945.117 Safari/537.36'  \n",
    "}\n",
    "r = requests.get(url, headers = headers)\n",
    "r.text"
   ]
  }
 ],
 "metadata": {
  "kernelspec": {
   "display_name": "Python 3",
   "language": "python",
   "name": "python3"
  },
  "language_info": {
   "codemirror_mode": {
    "name": "ipython",
    "version": 3
   },
   "file_extension": ".py",
   "mimetype": "text/x-python",
   "name": "python",
   "nbconvert_exporter": "python",
   "pygments_lexer": "ipython3",
   "version": "3.7.4"
  }
 },
 "nbformat": 4,
 "nbformat_minor": 2
}
