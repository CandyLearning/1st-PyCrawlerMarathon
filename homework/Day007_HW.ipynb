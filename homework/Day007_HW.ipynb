{
 "cells": [
  {
   "cell_type": "markdown",
   "metadata": {},
   "source": [
    "# HTTP 靜態網頁架構說明\n",
    "\n",
    "* 認識靜態網頁的溝通架構與運作原理\n",
    "* HTML、CSS、JavaScript 在網頁中扮演的角色\n",
    "* 網頁中定位資料的方法"
   ]
  },
  {
   "cell_type": "markdown",
   "metadata": {},
   "source": [
    "## 作業目標\n",
    "\n",
    "1. （簡答題）請問目前提到的這種基於 HTTP 一來一回的網頁傳輸方式，有哪些缺點及問題？\n",
    "2. （簡答題）網頁中使用的 JavaScipt 程式語言，跟我們一般使用的 Python 在執行上有什麼不同。\n"
   ]
  },
  {
   "cell_type": "markdown",
   "metadata": {},
   "source": [
    "### 1.（簡答題）請問目前提到的這種基於 HTTP 一來一回的網頁傳輸方式，有哪些缺點及問題？"
   ]
  },
  {
   "cell_type": "markdown",
   "metadata": {},
   "source": [
    "HTTP的缺點及問題: \n",
    "* 通信使用明文(並非加密文字，任何人都可以看懂)，內容可能會被竊聽\n",
    "  * HTTP本身不具備加密的功能，無法做到對通信整體進行加密\n",
    "  * 根據TCP/IP，通信內容在網路上都可遭到窺視\n",
    "  * 解決: 可透過SSL加密HTTP的通訊內容，與SSL組合的HTTP稱為HTTPS，可以對傳輸的Content進行加密，Header則無法\n",
    "* 不驗證通信方的身份，因此有可能遭遇偽裝\n",
    "  * HTTP協議中的請求和響應不會對通信方進行確認: 服務器是否就是發送請求中URL真正指定的主機，返回的響應是否真的返回到實際提出請求的客戶端\n",
    "  * 任何人都可以發起請求\n",
    "  * Server接受到請求，不管對方是誰都會有響應，無法判定Request來自何方\n",
    "* 無法證明報文的完整性，有可能已遭篡改\n",
    "  * 完整性是指信息的準確度。如果無法證明其完整性，通常也就意味著無法判斷信息是否準確\n",
    " \n",
    " [文章來源](https://blog.csdn.net/qq_33301113/article/details/78725951)"
   ]
  },
  {
   "cell_type": "markdown",
   "metadata": {},
   "source": [
    "### 2. （簡答題）網頁中使用的 JavaScipt 程式語言，跟我們一般使用的 Python 在執行上有什麼不同。"
   ]
  },
  {
   "cell_type": "markdown",
   "metadata": {},
   "source": [
    "* JavaScript\n",
    "是客戶端的指令碼語言，主要應用於瀏覽器與網頁設計，可以替網頁增加動態功能。\n",
    "* Python\n",
    "主要應用於科學計算、網站後端以及行動App等。\n",
    "* 共通點是兩者都屬於直譯式語言"
   ]
  }
 ],
 "metadata": {
  "kernelspec": {
   "display_name": "Python 3",
   "language": "python",
   "name": "python3"
  },
  "language_info": {
   "codemirror_mode": {
    "name": "ipython",
    "version": 3
   },
   "file_extension": ".py",
   "mimetype": "text/x-python",
   "name": "python",
   "nbconvert_exporter": "python",
   "pygments_lexer": "ipython3",
   "version": "3.7.4"
  }
 },
 "nbformat": 4,
 "nbformat_minor": 2
}
